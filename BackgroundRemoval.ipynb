{
 "cells": [
  {
   "cell_type": "code",
   "execution_count": 1,
   "metadata": {},
   "outputs": [],
   "source": [
    "import cv2\n",
    "import numpy as np\n",
    "\n",
    "def BackgroundRemoval(cap, fgbg_params):\n",
    "    fgbg = cv2.createBackgroundSubtractorKNN(**fgbg_params)\n",
    "\n",
    "    while(1):\n",
    "        # Take each frame\n",
    "        ret, frame = cap.read()\n",
    "        mask = fgbg.apply(frame)\n",
    "\n",
    "        # Bitwise-AND mask and original image\n",
    "        frame = cv2.bitwise_and(frame,frame, mask= mask)\n",
    "\n",
    "        #cv2.imshow('frame',frame)\n",
    "        #cv2.imshow('mask',mask)\n",
    "        cv2.imshow('res',frame)\n",
    "\n",
    "        #press 'q' to kill\n",
    "        if cv2.waitKey(20) & 0xFF == ord('q'):\n",
    "            break\n",
    "\n",
    "    cv2.destroyAllWindows()\n",
    "    return \n",
    "\n",
    "# params for Background Removal\n",
    "fgbg_params = dict( history=1000, \n",
    "                    dist2Threshold=1000, \n",
    "                    detectShadows=False )\n",
    "\n",
    "cap = cv2.VideoCapture('Stereo_conveyor_without_occlusions.mp4')\n",
    "\n",
    "BackgroundRemoval(cap, fgbg_params)"
   ]
  },
  {
   "cell_type": "code",
   "execution_count": null,
   "metadata": {},
   "outputs": [],
   "source": []
  }
 ],
 "metadata": {
  "kernelspec": {
   "display_name": "Python 3",
   "language": "python",
   "name": "python3"
  },
  "language_info": {
   "codemirror_mode": {
    "name": "ipython",
    "version": 3
   },
   "file_extension": ".py",
   "mimetype": "text/x-python",
   "name": "python",
   "nbconvert_exporter": "python",
   "pygments_lexer": "ipython3",
   "version": "3.7.4"
  }
 },
 "nbformat": 4,
 "nbformat_minor": 2
}
